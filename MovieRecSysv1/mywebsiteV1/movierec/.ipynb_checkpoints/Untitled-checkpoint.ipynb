{
 "cells": [
  {
   "cell_type": "code",
   "execution_count": 12,
   "id": "0ee16bdc",
   "metadata": {},
   "outputs": [],
   "source": [
    "import gengeom \n",
    "import pandas as pd"
   ]
  },
  {
   "cell_type": "code",
   "execution_count": 13,
   "id": "17ad3621",
   "metadata": {},
   "outputs": [],
   "source": [
    "s1 = '''Toy Story (1995),4\n",
    "Seven (a.k.a. Se7en) (1995),5\n",
    "Pulp Fiction (1994),4.5\n",
    "'''"
   ]
  },
  {
   "cell_type": "code",
   "execution_count": 14,
   "id": "d5a9510e",
   "metadata": {},
   "outputs": [],
   "source": [
    "def Recom(doc):\n",
    "    movies_df = pd.read_csv(\"movies.csv\") \n",
    "    ratings_df = pd.read_csv(\"ratings.csv\")\n",
    "    del ratings_df[\"timestamp\"]\n",
    "    movies_df = movies_df.loc[movies_df[\"movieId\"].isin(ratings_df['movieId'].unique())]\n",
    "\n",
    "    unique_user_id = ratings_df['userId'].unique() \n",
    "    unique_user_id = pd.DataFrame(data={\n",
    "        'userId': unique_user_id,\n",
    "        'mappedUserId': pd.RangeIndex(len(unique_user_id))\n",
    "        })\n",
    "    unique_movie_id = movies_df['movieId'].unique()\n",
    "    unique_movie_id = pd.DataFrame(data={\n",
    "        'movieId': unique_movie_id,\n",
    "        'mappedMovieId': pd.RangeIndex(len(unique_movie_id))\n",
    "        })\n",
    "        \n",
    "    ratings_df = ratings_df.merge(unique_user_id, on='userId')\n",
    "    ratings_df = ratings_df.merge(unique_movie_id, on='movieId')\n",
    "    \n",
    "    movies_list,ratings_list = gengeom.getinfo(doc)\n",
    "\n",
    "    model = gengeom.load_trainedmodel(\"TransformerConv.pt\")\n",
    "\n",
    "    mappedmovieid = gengeom.generate_mapped_movieid(movies_list,movies_df)\n",
    "    \n",
    "    new_id, newdata = gengeom.createnewgraph(mappedmovieid,ratings_list) \n",
    "\n",
    "    embeds = gengeom.runnewdata(newdata)\n",
    "\n",
    "    l1 = gengeom.movies_user_user(embeds,new_id)\n",
    "    l2 = gengeom.movies_user_user(embeds)\n",
    "    l3 = gengeom.movies_item_user(embeds,new_id)\n",
    "    \n",
    "    print(l1)"
   ]
  },
  {
   "cell_type": "code",
   "execution_count": 15,
   "id": "370273de",
   "metadata": {},
   "outputs": [
    {
     "name": "stdout",
     "output_type": "stream",
     "text": [
      "['Toy Story (1995)', '4']\n",
      "['Seven (a.k.a. Se7en) (1995)', '5']\n",
      "['Pulp Fiction (1994)', '4.5']\n"
     ]
    },
    {
     "ename": "TypeError",
     "evalue": "generate_mapped_movieid() takes 1 positional argument but 2 were given",
     "output_type": "error",
     "traceback": [
      "\u001b[1;31m---------------------------------------------------------------------------\u001b[0m",
      "\u001b[1;31mTypeError\u001b[0m                                 Traceback (most recent call last)",
      "Input \u001b[1;32mIn [15]\u001b[0m, in \u001b[0;36m<cell line: 1>\u001b[1;34m()\u001b[0m\n\u001b[1;32m----> 1\u001b[0m \u001b[43mRecom\u001b[49m\u001b[43m(\u001b[49m\u001b[43ms1\u001b[49m\u001b[43m)\u001b[49m\n",
      "Input \u001b[1;32mIn [14]\u001b[0m, in \u001b[0;36mRecom\u001b[1;34m(doc)\u001b[0m\n\u001b[0;32m     21\u001b[0m movies_list,ratings_list \u001b[38;5;241m=\u001b[39m gengeom\u001b[38;5;241m.\u001b[39mgetinfo(doc)\n\u001b[0;32m     23\u001b[0m model \u001b[38;5;241m=\u001b[39m gengeom\u001b[38;5;241m.\u001b[39mload_trainedmodel(\u001b[38;5;124m\"\u001b[39m\u001b[38;5;124mTransformerConv.pt\u001b[39m\u001b[38;5;124m\"\u001b[39m)\n\u001b[1;32m---> 25\u001b[0m mappedmovieid \u001b[38;5;241m=\u001b[39m \u001b[43mgengeom\u001b[49m\u001b[38;5;241;43m.\u001b[39;49m\u001b[43mgenerate_mapped_movieid\u001b[49m\u001b[43m(\u001b[49m\u001b[43mmovies_list\u001b[49m\u001b[43m,\u001b[49m\u001b[43mmovies_df\u001b[49m\u001b[43m)\u001b[49m\n\u001b[0;32m     27\u001b[0m new_id, newdata \u001b[38;5;241m=\u001b[39m gengeom\u001b[38;5;241m.\u001b[39mcreatenewgraph(mappedmovieid,ratings_list) \n\u001b[0;32m     29\u001b[0m embeds \u001b[38;5;241m=\u001b[39m gengeom\u001b[38;5;241m.\u001b[39mrunnewdata(newdata)\n",
      "\u001b[1;31mTypeError\u001b[0m: generate_mapped_movieid() takes 1 positional argument but 2 were given"
     ]
    }
   ],
   "source": [
    "Recom(s1)"
   ]
  },
  {
   "cell_type": "code",
   "execution_count": null,
   "id": "0bdf9829",
   "metadata": {},
   "outputs": [],
   "source": []
  }
 ],
 "metadata": {
  "kernelspec": {
   "display_name": "Python 3 (ipykernel)",
   "language": "python",
   "name": "python3"
  },
  "language_info": {
   "codemirror_mode": {
    "name": "ipython",
    "version": 3
   },
   "file_extension": ".py",
   "mimetype": "text/x-python",
   "name": "python",
   "nbconvert_exporter": "python",
   "pygments_lexer": "ipython3",
   "version": "3.10.4"
  }
 },
 "nbformat": 4,
 "nbformat_minor": 5
}
